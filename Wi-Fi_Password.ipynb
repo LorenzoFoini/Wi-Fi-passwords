{
 "cells": [
  {
   "cell_type": "markdown",
   "id": "c7027fe1",
   "metadata": {},
   "source": [
    "# THIS NOTEBOOK CAN CRACK ANY WI-FI' PASSWORDS STORED IN PC"
   ]
  },
  {
   "cell_type": "markdown",
   "id": "6faf3287",
   "metadata": {},
   "source": [
    "### To execute the code correctly, you need to change the value of two strings based on the language used on your PC (in my case Italian).\n",
    "The strings in question are:\n",
    "- \"Tutti i profili utente\" => To be translated into your language (Example: \"All User Profile\" in English)\n",
    "- \"Contenuto chiave\" => To be translated into your language (Example: \"Key Content\" in English)"
   ]
  },
  {
   "cell_type": "code",
   "execution_count": null,
   "id": "01c19c38",
   "metadata": {},
   "outputs": [],
   "source": [
    "# Library\n",
    "import subprocess\n",
    "\n",
    "try:\n",
    "    # Now we will store the profiles data in \"data\" variable\n",
    "    # Doing so by running the 1st cmd command using subprocess.check_output\n",
    "    data = subprocess.check_output(['netsh', 'wlan', 'show', 'profiles']).decode('latin-1').split('\\n')\n",
    "\n",
    "    # Now we will store the profile by converting them to list\n",
    "    profiles = [i.split(\":\")[1].strip() for i in data if \"Tutti i profili utente\" in i]\n",
    "\n",
    "    # Using for loop for chekcing and printing Wi-Fis' passwords if they are available using 2nd cmd command\n",
    "    for i in profiles:\n",
    "        try:\n",
    "            # Running the 2nd cmd command to check password\n",
    "            results = subprocess.check_output(['netsh', 'wlan', 'show', 'profiles', i, 'key=clear']).decode('latin-1').split('\\n')\n",
    "            \n",
    "            # Storing passwords after converting them to list\n",
    "            results = [b.split(\":\")[1].strip() for b in results if \"Contenuto chiave\" in b]\n",
    "            \n",
    "            # Printing the profiles (Wi-Fi names) with their passwords using try and except method\n",
    "            try:\n",
    "                print(\"{:<30}|  {:<}\".format(i, results[0]))\n",
    "            except IndexError:\n",
    "                print(\"{:<30}|  {:<}\".format(i, \"No password\"))\n",
    "        except subprocess.CalledProcessError as e:\n",
    "            print(f\"Could not retrieve data for {i}: {e}\")\n",
    "except subprocess.CalledProcessError as e:\n",
    "    print(f\"Error executing command: {e}\")"
   ]
  }
 ],
 "metadata": {
  "kernelspec": {
   "display_name": "Python 3 (ipykernel)",
   "language": "python",
   "name": "python3"
  },
  "language_info": {
   "codemirror_mode": {
    "name": "ipython",
    "version": 3
   },
   "file_extension": ".py",
   "mimetype": "text/x-python",
   "name": "python",
   "nbconvert_exporter": "python",
   "pygments_lexer": "ipython3",
   "version": "3.11.5"
  }
 },
 "nbformat": 4,
 "nbformat_minor": 5
}
